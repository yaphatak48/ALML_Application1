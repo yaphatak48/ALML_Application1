{
 "cells": [
  {
   "cell_type": "markdown",
   "metadata": {},
   "source": [
    "### Will a Customer Accept the Coupon?\n",
    "\n",
    "**Context**\n",
    "\n",
    "Imagine driving through town and a coupon is delivered to your cell phone for a restaraunt near where you are driving. Would you accept that coupon and take a short detour to the restaraunt? Would you accept the coupon but use it on a sunbsequent trip? Would you ignore the coupon entirely? What if the coupon was for a bar instead of a restaraunt? What about a coffee house? Would you accept a bar coupon with a minor passenger in the car? What about if it was just you and your partner in the car? Would weather impact the rate of acceptance? What about the time of day?\n",
    "\n",
    "Obviously, proximity to the business is a factor on whether the coupon is delivered to the driver or not, but what are the factors that determine whether a driver accepts the coupon once it is delivered to them? How would you determine whether a driver is likely to accept a coupon?\n",
    "\n",
    "**Overview**\n",
    "\n",
    "The goal of this project is to use what you know about visualizations and probability distributions to distinguish between customers who accepted a driving coupon versus those that did not.\n",
    "\n",
    "**Data**\n",
    "\n",
    "This data comes to us from the UCI Machine Learning repository and was collected via a survey on Amazon Mechanical Turk. The survey describes different driving scenarios including the destination, current time, weather, passenger, etc., and then ask the person whether he will accept the coupon if he is the driver. Answers that the user will drive there ‘right away’ or ‘later before the coupon expires’ are labeled as ‘Y = 1’ and answers ‘no, I do not want the coupon’ are labeled as ‘Y = 0’.  There are five different types of coupons -- less expensive restaurants (under \\\\$20), coffee houses, carry out & take away, bar, and more expensive restaurants (\\\\$20 - \\\\$50). "
   ]
  },
  {
   "cell_type": "markdown",
   "metadata": {},
   "source": [
    "**Deliverables**\n",
    "\n",
    "Your final product should be a brief report that highlights the differences between customers who did and did not accept the coupons.  To explore the data you will utilize your knowledge of plotting, statistical summaries, and visualization using Python. You will publish your findings in a public facing github repository as your first portfolio piece. \n",
    "\n",
    "\n",
    "\n"
   ]
  },
  {
   "cell_type": "markdown",
   "metadata": {},
   "source": [
    "### Data Description\n",
    "Keep in mind that these values mentioned below are average values.\n",
    "\n",
    "The attributes of this data set include:\n",
    "1. User attributes\n",
    "    -  Gender: male, female\n",
    "    -  Age: below 21, 21 to 25, 26 to 30, etc.\n",
    "    -  Marital Status: single, married partner, unmarried partner, or widowed\n",
    "    -  Number of children: 0, 1, or more than 1\n",
    "    -  Education: high school, bachelors degree, associates degree, or graduate degree\n",
    "    -  Occupation: architecture & engineering, business & financial, etc.\n",
    "    -  Annual income: less than \\\\$12500, \\\\$12500 - \\\\$24999, \\\\$25000 - \\\\$37499, etc.\n",
    "    -  Number of times that he/she goes to a bar: 0, less than 1, 1 to 3, 4 to 8 or greater than 8\n",
    "    -  Number of times that he/she buys takeaway food: 0, less than 1, 1 to 3, 4 to 8 or greater\n",
    "    than 8\n",
    "    -  Number of times that he/she goes to a coffee house: 0, less than 1, 1 to 3, 4 to 8 or\n",
    "    greater than 8\n",
    "    -  Number of times that he/she eats at a restaurant with average expense less than \\\\$20 per\n",
    "    person: 0, less than 1, 1 to 3, 4 to 8 or greater than 8\n",
    "    -  Number of times that he/she goes to a bar: 0, less than 1, 1 to 3, 4 to 8 or greater than 8\n",
    "    \n",
    "\n",
    "2. Contextual attributes\n",
    "    - Driving destination: home, work, or no urgent destination\n",
    "    - Location of user, coupon and destination: we provide a map to show the geographical\n",
    "    location of the user, destination, and the venue, and we mark the distance between each\n",
    "    two places with time of driving. The user can see whether the venue is in the same\n",
    "    direction as the destination.\n",
    "    - Weather: sunny, rainy, or snowy\n",
    "    - Temperature: 30F, 55F, or 80F\n",
    "    - Time: 10AM, 2PM, or 6PM\n",
    "    - Passenger: alone, partner, kid(s), or friend(s)\n",
    "\n",
    "\n",
    "3. Coupon attributes\n",
    "    - time before it expires: 2 hours or one day"
   ]
  },
  {
   "cell_type": "code",
   "execution_count": 269,
   "metadata": {},
   "outputs": [],
   "source": [
    "import matplotlib.pyplot as plt\n",
    "import seaborn as sns\n",
    "import pandas as pd\n",
    "import numpy as np\n",
    "import plotly.express as px"
   ]
  },
  {
   "cell_type": "code",
   "execution_count": null,
   "metadata": {},
   "outputs": [],
   "source": []
  },
  {
   "cell_type": "markdown",
   "metadata": {},
   "source": [
    "### Problems\n",
    "\n",
    "Use the prompts below to get started with your data analysis.  \n",
    "\n",
    "1. Read in the `coupons.csv` file.\n",
    "\n",
    "\n"
   ]
  },
  {
   "cell_type": "code",
   "execution_count": 273,
   "metadata": {},
   "outputs": [],
   "source": [
    "data = pd.read_csv('C:/Users/yasho/OneDrive/Desktop\\Berkeley\\Module5-  Application1/assignment_5_1_starter/data/coupons.csv')"
   ]
  },
  {
   "cell_type": "code",
   "execution_count": 275,
   "metadata": {},
   "outputs": [
    {
     "data": {
      "text/html": [
       "<div>\n",
       "<style scoped>\n",
       "    .dataframe tbody tr th:only-of-type {\n",
       "        vertical-align: middle;\n",
       "    }\n",
       "\n",
       "    .dataframe tbody tr th {\n",
       "        vertical-align: top;\n",
       "    }\n",
       "\n",
       "    .dataframe thead th {\n",
       "        text-align: right;\n",
       "    }\n",
       "</style>\n",
       "<table border=\"1\" class=\"dataframe\">\n",
       "  <thead>\n",
       "    <tr style=\"text-align: right;\">\n",
       "      <th></th>\n",
       "      <th>destination</th>\n",
       "      <th>passanger</th>\n",
       "      <th>weather</th>\n",
       "      <th>temperature</th>\n",
       "      <th>time</th>\n",
       "      <th>coupon</th>\n",
       "      <th>expiration</th>\n",
       "      <th>gender</th>\n",
       "      <th>age</th>\n",
       "      <th>maritalStatus</th>\n",
       "      <th>...</th>\n",
       "      <th>CoffeeHouse</th>\n",
       "      <th>CarryAway</th>\n",
       "      <th>RestaurantLessThan20</th>\n",
       "      <th>Restaurant20To50</th>\n",
       "      <th>toCoupon_GEQ5min</th>\n",
       "      <th>toCoupon_GEQ15min</th>\n",
       "      <th>toCoupon_GEQ25min</th>\n",
       "      <th>direction_same</th>\n",
       "      <th>direction_opp</th>\n",
       "      <th>Y</th>\n",
       "    </tr>\n",
       "  </thead>\n",
       "  <tbody>\n",
       "    <tr>\n",
       "      <th>0</th>\n",
       "      <td>No Urgent Place</td>\n",
       "      <td>Alone</td>\n",
       "      <td>Sunny</td>\n",
       "      <td>55</td>\n",
       "      <td>2PM</td>\n",
       "      <td>Restaurant(&lt;20)</td>\n",
       "      <td>1d</td>\n",
       "      <td>Female</td>\n",
       "      <td>21</td>\n",
       "      <td>Unmarried partner</td>\n",
       "      <td>...</td>\n",
       "      <td>never</td>\n",
       "      <td>NaN</td>\n",
       "      <td>4~8</td>\n",
       "      <td>1~3</td>\n",
       "      <td>1</td>\n",
       "      <td>0</td>\n",
       "      <td>0</td>\n",
       "      <td>0</td>\n",
       "      <td>1</td>\n",
       "      <td>1</td>\n",
       "    </tr>\n",
       "    <tr>\n",
       "      <th>1</th>\n",
       "      <td>No Urgent Place</td>\n",
       "      <td>Friend(s)</td>\n",
       "      <td>Sunny</td>\n",
       "      <td>80</td>\n",
       "      <td>10AM</td>\n",
       "      <td>Coffee House</td>\n",
       "      <td>2h</td>\n",
       "      <td>Female</td>\n",
       "      <td>21</td>\n",
       "      <td>Unmarried partner</td>\n",
       "      <td>...</td>\n",
       "      <td>never</td>\n",
       "      <td>NaN</td>\n",
       "      <td>4~8</td>\n",
       "      <td>1~3</td>\n",
       "      <td>1</td>\n",
       "      <td>0</td>\n",
       "      <td>0</td>\n",
       "      <td>0</td>\n",
       "      <td>1</td>\n",
       "      <td>0</td>\n",
       "    </tr>\n",
       "    <tr>\n",
       "      <th>2</th>\n",
       "      <td>No Urgent Place</td>\n",
       "      <td>Friend(s)</td>\n",
       "      <td>Sunny</td>\n",
       "      <td>80</td>\n",
       "      <td>10AM</td>\n",
       "      <td>Carry out &amp; Take away</td>\n",
       "      <td>2h</td>\n",
       "      <td>Female</td>\n",
       "      <td>21</td>\n",
       "      <td>Unmarried partner</td>\n",
       "      <td>...</td>\n",
       "      <td>never</td>\n",
       "      <td>NaN</td>\n",
       "      <td>4~8</td>\n",
       "      <td>1~3</td>\n",
       "      <td>1</td>\n",
       "      <td>1</td>\n",
       "      <td>0</td>\n",
       "      <td>0</td>\n",
       "      <td>1</td>\n",
       "      <td>1</td>\n",
       "    </tr>\n",
       "    <tr>\n",
       "      <th>3</th>\n",
       "      <td>No Urgent Place</td>\n",
       "      <td>Friend(s)</td>\n",
       "      <td>Sunny</td>\n",
       "      <td>80</td>\n",
       "      <td>2PM</td>\n",
       "      <td>Coffee House</td>\n",
       "      <td>2h</td>\n",
       "      <td>Female</td>\n",
       "      <td>21</td>\n",
       "      <td>Unmarried partner</td>\n",
       "      <td>...</td>\n",
       "      <td>never</td>\n",
       "      <td>NaN</td>\n",
       "      <td>4~8</td>\n",
       "      <td>1~3</td>\n",
       "      <td>1</td>\n",
       "      <td>1</td>\n",
       "      <td>0</td>\n",
       "      <td>0</td>\n",
       "      <td>1</td>\n",
       "      <td>0</td>\n",
       "    </tr>\n",
       "    <tr>\n",
       "      <th>4</th>\n",
       "      <td>No Urgent Place</td>\n",
       "      <td>Friend(s)</td>\n",
       "      <td>Sunny</td>\n",
       "      <td>80</td>\n",
       "      <td>2PM</td>\n",
       "      <td>Coffee House</td>\n",
       "      <td>1d</td>\n",
       "      <td>Female</td>\n",
       "      <td>21</td>\n",
       "      <td>Unmarried partner</td>\n",
       "      <td>...</td>\n",
       "      <td>never</td>\n",
       "      <td>NaN</td>\n",
       "      <td>4~8</td>\n",
       "      <td>1~3</td>\n",
       "      <td>1</td>\n",
       "      <td>1</td>\n",
       "      <td>0</td>\n",
       "      <td>0</td>\n",
       "      <td>1</td>\n",
       "      <td>0</td>\n",
       "    </tr>\n",
       "    <tr>\n",
       "      <th>5</th>\n",
       "      <td>No Urgent Place</td>\n",
       "      <td>Friend(s)</td>\n",
       "      <td>Sunny</td>\n",
       "      <td>80</td>\n",
       "      <td>6PM</td>\n",
       "      <td>Restaurant(&lt;20)</td>\n",
       "      <td>2h</td>\n",
       "      <td>Female</td>\n",
       "      <td>21</td>\n",
       "      <td>Unmarried partner</td>\n",
       "      <td>...</td>\n",
       "      <td>never</td>\n",
       "      <td>NaN</td>\n",
       "      <td>4~8</td>\n",
       "      <td>1~3</td>\n",
       "      <td>1</td>\n",
       "      <td>1</td>\n",
       "      <td>0</td>\n",
       "      <td>0</td>\n",
       "      <td>1</td>\n",
       "      <td>1</td>\n",
       "    </tr>\n",
       "    <tr>\n",
       "      <th>6</th>\n",
       "      <td>No Urgent Place</td>\n",
       "      <td>Friend(s)</td>\n",
       "      <td>Sunny</td>\n",
       "      <td>55</td>\n",
       "      <td>2PM</td>\n",
       "      <td>Carry out &amp; Take away</td>\n",
       "      <td>1d</td>\n",
       "      <td>Female</td>\n",
       "      <td>21</td>\n",
       "      <td>Unmarried partner</td>\n",
       "      <td>...</td>\n",
       "      <td>never</td>\n",
       "      <td>NaN</td>\n",
       "      <td>4~8</td>\n",
       "      <td>1~3</td>\n",
       "      <td>1</td>\n",
       "      <td>1</td>\n",
       "      <td>0</td>\n",
       "      <td>0</td>\n",
       "      <td>1</td>\n",
       "      <td>1</td>\n",
       "    </tr>\n",
       "    <tr>\n",
       "      <th>7</th>\n",
       "      <td>No Urgent Place</td>\n",
       "      <td>Kid(s)</td>\n",
       "      <td>Sunny</td>\n",
       "      <td>80</td>\n",
       "      <td>10AM</td>\n",
       "      <td>Restaurant(&lt;20)</td>\n",
       "      <td>2h</td>\n",
       "      <td>Female</td>\n",
       "      <td>21</td>\n",
       "      <td>Unmarried partner</td>\n",
       "      <td>...</td>\n",
       "      <td>never</td>\n",
       "      <td>NaN</td>\n",
       "      <td>4~8</td>\n",
       "      <td>1~3</td>\n",
       "      <td>1</td>\n",
       "      <td>1</td>\n",
       "      <td>0</td>\n",
       "      <td>0</td>\n",
       "      <td>1</td>\n",
       "      <td>1</td>\n",
       "    </tr>\n",
       "    <tr>\n",
       "      <th>8</th>\n",
       "      <td>No Urgent Place</td>\n",
       "      <td>Kid(s)</td>\n",
       "      <td>Sunny</td>\n",
       "      <td>80</td>\n",
       "      <td>10AM</td>\n",
       "      <td>Carry out &amp; Take away</td>\n",
       "      <td>2h</td>\n",
       "      <td>Female</td>\n",
       "      <td>21</td>\n",
       "      <td>Unmarried partner</td>\n",
       "      <td>...</td>\n",
       "      <td>never</td>\n",
       "      <td>NaN</td>\n",
       "      <td>4~8</td>\n",
       "      <td>1~3</td>\n",
       "      <td>1</td>\n",
       "      <td>1</td>\n",
       "      <td>0</td>\n",
       "      <td>0</td>\n",
       "      <td>1</td>\n",
       "      <td>1</td>\n",
       "    </tr>\n",
       "    <tr>\n",
       "      <th>9</th>\n",
       "      <td>No Urgent Place</td>\n",
       "      <td>Kid(s)</td>\n",
       "      <td>Sunny</td>\n",
       "      <td>80</td>\n",
       "      <td>10AM</td>\n",
       "      <td>Bar</td>\n",
       "      <td>1d</td>\n",
       "      <td>Female</td>\n",
       "      <td>21</td>\n",
       "      <td>Unmarried partner</td>\n",
       "      <td>...</td>\n",
       "      <td>never</td>\n",
       "      <td>NaN</td>\n",
       "      <td>4~8</td>\n",
       "      <td>1~3</td>\n",
       "      <td>1</td>\n",
       "      <td>1</td>\n",
       "      <td>0</td>\n",
       "      <td>0</td>\n",
       "      <td>1</td>\n",
       "      <td>0</td>\n",
       "    </tr>\n",
       "  </tbody>\n",
       "</table>\n",
       "<p>10 rows × 26 columns</p>\n",
       "</div>"
      ],
      "text/plain": [
       "       destination  passanger weather  temperature  time  \\\n",
       "0  No Urgent Place      Alone   Sunny           55   2PM   \n",
       "1  No Urgent Place  Friend(s)   Sunny           80  10AM   \n",
       "2  No Urgent Place  Friend(s)   Sunny           80  10AM   \n",
       "3  No Urgent Place  Friend(s)   Sunny           80   2PM   \n",
       "4  No Urgent Place  Friend(s)   Sunny           80   2PM   \n",
       "5  No Urgent Place  Friend(s)   Sunny           80   6PM   \n",
       "6  No Urgent Place  Friend(s)   Sunny           55   2PM   \n",
       "7  No Urgent Place     Kid(s)   Sunny           80  10AM   \n",
       "8  No Urgent Place     Kid(s)   Sunny           80  10AM   \n",
       "9  No Urgent Place     Kid(s)   Sunny           80  10AM   \n",
       "\n",
       "                  coupon expiration  gender age      maritalStatus  ...  \\\n",
       "0        Restaurant(<20)         1d  Female  21  Unmarried partner  ...   \n",
       "1           Coffee House         2h  Female  21  Unmarried partner  ...   \n",
       "2  Carry out & Take away         2h  Female  21  Unmarried partner  ...   \n",
       "3           Coffee House         2h  Female  21  Unmarried partner  ...   \n",
       "4           Coffee House         1d  Female  21  Unmarried partner  ...   \n",
       "5        Restaurant(<20)         2h  Female  21  Unmarried partner  ...   \n",
       "6  Carry out & Take away         1d  Female  21  Unmarried partner  ...   \n",
       "7        Restaurant(<20)         2h  Female  21  Unmarried partner  ...   \n",
       "8  Carry out & Take away         2h  Female  21  Unmarried partner  ...   \n",
       "9                    Bar         1d  Female  21  Unmarried partner  ...   \n",
       "\n",
       "   CoffeeHouse CarryAway RestaurantLessThan20 Restaurant20To50  \\\n",
       "0        never       NaN                  4~8              1~3   \n",
       "1        never       NaN                  4~8              1~3   \n",
       "2        never       NaN                  4~8              1~3   \n",
       "3        never       NaN                  4~8              1~3   \n",
       "4        never       NaN                  4~8              1~3   \n",
       "5        never       NaN                  4~8              1~3   \n",
       "6        never       NaN                  4~8              1~3   \n",
       "7        never       NaN                  4~8              1~3   \n",
       "8        never       NaN                  4~8              1~3   \n",
       "9        never       NaN                  4~8              1~3   \n",
       "\n",
       "  toCoupon_GEQ5min toCoupon_GEQ15min toCoupon_GEQ25min direction_same  \\\n",
       "0                1                 0                 0              0   \n",
       "1                1                 0                 0              0   \n",
       "2                1                 1                 0              0   \n",
       "3                1                 1                 0              0   \n",
       "4                1                 1                 0              0   \n",
       "5                1                 1                 0              0   \n",
       "6                1                 1                 0              0   \n",
       "7                1                 1                 0              0   \n",
       "8                1                 1                 0              0   \n",
       "9                1                 1                 0              0   \n",
       "\n",
       "  direction_opp  Y  \n",
       "0             1  1  \n",
       "1             1  0  \n",
       "2             1  1  \n",
       "3             1  0  \n",
       "4             1  0  \n",
       "5             1  1  \n",
       "6             1  1  \n",
       "7             1  1  \n",
       "8             1  1  \n",
       "9             1  0  \n",
       "\n",
       "[10 rows x 26 columns]"
      ]
     },
     "execution_count": 275,
     "metadata": {},
     "output_type": "execute_result"
    }
   ],
   "source": [
    "data.head(10)"
   ]
  },
  {
   "cell_type": "markdown",
   "metadata": {},
   "source": [
    "2. Investigate the dataset for missing or problematic data."
   ]
  },
  {
   "cell_type": "code",
   "execution_count": 278,
   "metadata": {},
   "outputs": [
    {
     "name": "stdout",
     "output_type": "stream",
     "text": [
      "<class 'pandas.core.frame.DataFrame'>\n",
      "RangeIndex: 12684 entries, 0 to 12683\n",
      "Data columns (total 26 columns):\n",
      " #   Column                Non-Null Count  Dtype \n",
      "---  ------                --------------  ----- \n",
      " 0   destination           12684 non-null  object\n",
      " 1   passanger             12684 non-null  object\n",
      " 2   weather               12684 non-null  object\n",
      " 3   temperature           12684 non-null  int64 \n",
      " 4   time                  12684 non-null  object\n",
      " 5   coupon                12684 non-null  object\n",
      " 6   expiration            12684 non-null  object\n",
      " 7   gender                12684 non-null  object\n",
      " 8   age                   12684 non-null  object\n",
      " 9   maritalStatus         12684 non-null  object\n",
      " 10  has_children          12684 non-null  int64 \n",
      " 11  education             12684 non-null  object\n",
      " 12  occupation            12684 non-null  object\n",
      " 13  income                12684 non-null  object\n",
      " 14  car                   108 non-null    object\n",
      " 15  Bar                   12577 non-null  object\n",
      " 16  CoffeeHouse           12467 non-null  object\n",
      " 17  CarryAway             12533 non-null  object\n",
      " 18  RestaurantLessThan20  12554 non-null  object\n",
      " 19  Restaurant20To50      12495 non-null  object\n",
      " 20  toCoupon_GEQ5min      12684 non-null  int64 \n",
      " 21  toCoupon_GEQ15min     12684 non-null  int64 \n",
      " 22  toCoupon_GEQ25min     12684 non-null  int64 \n",
      " 23  direction_same        12684 non-null  int64 \n",
      " 24  direction_opp         12684 non-null  int64 \n",
      " 25  Y                     12684 non-null  int64 \n",
      "dtypes: int64(8), object(18)\n",
      "memory usage: 2.5+ MB\n"
     ]
    },
    {
     "data": {
      "text/plain": [
       "destination                 0\n",
       "passanger                   0\n",
       "weather                     0\n",
       "temperature                 0\n",
       "time                        0\n",
       "coupon                      0\n",
       "expiration                  0\n",
       "gender                      0\n",
       "age                         0\n",
       "maritalStatus               0\n",
       "has_children                0\n",
       "education                   0\n",
       "occupation                  0\n",
       "income                      0\n",
       "car                     12576\n",
       "Bar                       107\n",
       "CoffeeHouse               217\n",
       "CarryAway                 151\n",
       "RestaurantLessThan20      130\n",
       "Restaurant20To50          189\n",
       "toCoupon_GEQ5min            0\n",
       "toCoupon_GEQ15min           0\n",
       "toCoupon_GEQ25min           0\n",
       "direction_same              0\n",
       "direction_opp               0\n",
       "Y                           0\n",
       "dtype: int64"
      ]
     },
     "execution_count": 278,
     "metadata": {},
     "output_type": "execute_result"
    }
   ],
   "source": [
    "data.info()\n",
    "#checking missing data\n",
    "data.isnull().sum()"
   ]
  },
  {
   "cell_type": "markdown",
   "metadata": {},
   "source": [
    "3. Decide what to do about your missing data -- drop, replace, other..."
   ]
  },
  {
   "cell_type": "code",
   "execution_count": 281,
   "metadata": {},
   "outputs": [],
   "source": [
    "# keeping the dataframe same as missing values are in coulumns car, Bar, CoffeeHouse, CarryAway\n",
    "data1 = data"
   ]
  },
  {
   "cell_type": "markdown",
   "metadata": {},
   "source": [
    "4. What proportion of the total observations chose to accept the coupon? \n",
    "\n"
   ]
  },
  {
   "cell_type": "code",
   "execution_count": 284,
   "metadata": {},
   "outputs": [
    {
     "name": "stdout",
     "output_type": "stream",
     "text": [
      "\n",
      " value count on people who accepted coupons\n",
      "7210\n",
      "<class 'int'>\n",
      "\n",
      " value count on total peoplein the data set\n",
      "12684\n",
      "<class 'int'>\n",
      "percentage of people accepted coupon =   56.84326710816777 %\n"
     ]
    }
   ],
   "source": [
    "#Calculating the proportion of the total people chose to accept the coupon\n",
    "print(\"\\n value count on people who accepted coupons\")\n",
    "coupons = data1.query('Y == 1')\n",
    "coupons_accepted = coupons['Y'].size\n",
    "print(coupons_accepted)\n",
    "print(type(coupons_accepted))\n",
    "\n",
    "print(\"\\n value count on total peoplein the data set\")\n",
    "passanger_count = data1['Y'].size\n",
    "print(passanger_count)\n",
    "print(type(passanger_count))\n",
    "\n",
    "percentage_of_accepted_coupon = (coupons_accepted/passanger_count)*100\n",
    "\n",
    "print(\"percentage of people accepted coupon =  \", percentage_of_accepted_coupon, \"%\")"
   ]
  },
  {
   "cell_type": "markdown",
   "metadata": {},
   "source": [
    "5. Use a bar plot to visualize the `coupon` column."
   ]
  },
  {
   "cell_type": "code",
   "execution_count": 287,
   "metadata": {},
   "outputs": [
    {
     "data": {
      "text/plain": [
       "'\\nfig = px.bar(data1, x=\"coupon\")\\nfig.update_layout(xaxis_title=\"Categories of Coupons\",\\n                  font=dict(\\n                     family=\"Courier New, monospace\",\\n                     size=18,\\n                     color=\"RebeccaPurple\"))\\nfig.show()\\n'"
      ]
     },
     "execution_count": 287,
     "metadata": {},
     "output_type": "execute_result"
    },
    {
     "data": {
      "image/png": "[encoded data removed]",
      "text/plain": [
       "<Figure size 640x480 with 1 Axes>"
      ]
     },
     "metadata": {},
     "output_type": "display_data"
    }
   ],
   "source": [
    "#Using the bar plot on datafram coupon colum for visualization\n",
    "ax = data1['coupon'].value_counts().plot.bar(y='count',rot=45,stacked=True)\n",
    "plt.ylabel(\"count\")\n",
    "plt.xlabel(\"Type of Coupon\")\n",
    "plt.title(\"Visualization for coupon column\")\n",
    "\"\"\"\n",
    "fig = px.bar(data1, x=\"coupon\")\n",
    "fig.update_layout(xaxis_title=\"Categories of Coupons\",\n",
    "                  font=dict(\n",
    "                     family=\"Courier New, monospace\",\n",
    "                     size=18,\n",
    "                     color=\"RebeccaPurple\"))\n",
    "fig.show()\n",
    "\"\"\""
   ]
  },
  {
   "cell_type": "markdown",
   "metadata": {},
   "source": [
    "6. Use a histogram to visualize the temperature column."
   ]
  },
  {
   "cell_type": "code",
   "execution_count": 290,
   "metadata": {},
   "outputs": [
    {
     "name": "stderr",
     "output_type": "stream",
     "text": [
      "C:\\Users\\yasho\\anaconda3\\Lib\\site-packages\\seaborn\\_oldcore.py:1119: FutureWarning:\n",
      "\n",
      "use_inf_as_na option is deprecated and will be removed in a future version. Convert inf values to NaN before operating instead.\n",
      "\n"
     ]
    },
    {
     "data": {
      "text/plain": [
       "Text(0.5, 1.0, 'histogram visualize of the temperature column')"
      ]
     },
     "execution_count": 290,
     "metadata": {},
     "output_type": "execute_result"
    },
    {
     "data": {
      "image/png": "[encoded data removed]",
      "text/plain": [
       "<Figure size 640x480 with 1 Axes>"
      ]
     },
     "metadata": {},
     "output_type": "display_data"
    }
   ],
   "source": [
    "#Using the histogram plot from seaborn lin on datafram temperature colum for visualization\n",
    "ax = sns.histplot(data=data1,x=\"temperature\")\n",
    "plt.title(\"histogram visualize of the temperature column\")"
   ]
  },
  {
   "cell_type": "code",
   "execution_count": null,
   "metadata": {},
   "outputs": [],
   "source": []
  },
  {
   "cell_type": "code",
   "execution_count": null,
   "metadata": {},
   "outputs": [],
   "source": []
  },
  {
   "cell_type": "code",
   "execution_count": null,
   "metadata": {},
   "outputs": [],
   "source": []
  },
  {
   "cell_type": "code",
   "execution_count": null,
   "metadata": {},
   "outputs": [],
   "source": []
  },
  {
   "cell_type": "markdown",
   "metadata": {},
   "source": [
    "**Investigating the Bar Coupons**\n",
    "\n",
    "Now, we will lead you through an exploration of just the bar related coupons.  \n",
    "\n",
    "1. Create a new `DataFrame` that contains just the bar coupons.\n"
   ]
  },
  {
   "cell_type": "code",
   "execution_count": 297,
   "metadata": {},
   "outputs": [
    {
     "name": "stdout",
     "output_type": "stream",
     "text": [
      "<class 'pandas.core.frame.DataFrame'>\n",
      "coupon\n",
      "Bar    2017\n",
      "Name: count, dtype: int64\n",
      "Total bar coupons =  2017\n",
      "<class 'pandas.core.frame.DataFrame'>\n",
      "Index: 2017 entries, 9 to 12682\n",
      "Data columns (total 26 columns):\n",
      " #   Column                Non-Null Count  Dtype \n",
      "---  ------                --------------  ----- \n",
      " 0   destination           2017 non-null   object\n",
      " 1   passanger             2017 non-null   object\n",
      " 2   weather               2017 non-null   object\n",
      " 3   temperature           2017 non-null   int64 \n",
      " 4   time                  2017 non-null   object\n",
      " 5   coupon                2017 non-null   object\n",
      " 6   expiration            2017 non-null   object\n",
      " 7   gender                2017 non-null   object\n",
      " 8   age                   2017 non-null   object\n",
      " 9   maritalStatus         2017 non-null   object\n",
      " 10  has_children          2017 non-null   int64 \n",
      " 11  education             2017 non-null   object\n",
      " 12  occupation            2017 non-null   object\n",
      " 13  income                2017 non-null   object\n",
      " 14  car                   13 non-null     object\n",
      " 15  Bar                   1996 non-null   object\n",
      " 16  CoffeeHouse           1978 non-null   object\n",
      " 17  CarryAway             1993 non-null   object\n",
      " 18  RestaurantLessThan20  1994 non-null   object\n",
      " 19  Restaurant20To50      1981 non-null   object\n",
      " 20  toCoupon_GEQ5min      2017 non-null   int64 \n",
      " 21  toCoupon_GEQ15min     2017 non-null   int64 \n",
      " 22  toCoupon_GEQ25min     2017 non-null   int64 \n",
      " 23  direction_same        2017 non-null   int64 \n",
      " 24  direction_opp         2017 non-null   int64 \n",
      " 25  Y                     2017 non-null   int64 \n",
      "dtypes: int64(8), object(18)\n",
      "memory usage: 425.5+ KB\n"
     ]
    }
   ],
   "source": [
    "#Creating a new DataFrame that contains just the bar coupons\n",
    "df_bar_coupon = data1[data1['coupon'].str.startswith('B')]\n",
    "print(type(df_bar_coupon))\n",
    "print(df_bar_coupon['coupon'].value_counts())\n",
    "total_bar_coupons = df_bar_coupon['coupon'].size\n",
    "\n",
    "print(\"Total bar coupons = \", total_bar_coupons)\n",
    "df_bar_coupon.info()"
   ]
  },
  {
   "cell_type": "markdown",
   "metadata": {},
   "source": [
    "2. What proportion of bar coupons were accepted?\n"
   ]
  },
  {
   "cell_type": "code",
   "execution_count": 300,
   "metadata": {},
   "outputs": [
    {
     "name": "stdout",
     "output_type": "stream",
     "text": [
      "bar coupons accepted =  827\n",
      "<class 'int'>\n",
      "Portion of bar coupons accepted 41.00148735746158 %\n"
     ]
    }
   ],
   "source": [
    "#Calculating % of bar coupons accepted\n",
    "bar_coupons = df_bar_coupon.query('Y == 1')\n",
    "bar_coupons_accepted = bar_coupons['coupon'].size\n",
    "print(\"bar coupons accepted = \",bar_coupons_accepted)\n",
    "print(type(bar_coupons_accepted))\n",
    "\n",
    "print(\"Portion of bar coupons accepted\", ((bar_coupons_accepted/total_bar_coupons)*100), \"%\")"
   ]
  },
  {
   "cell_type": "markdown",
   "metadata": {},
   "source": [
    "3. Compare the acceptance rate between those who went to a bar 3 or fewer times a month to those who went more.\n"
   ]
  },
  {
   "cell_type": "code",
   "execution_count": 496,
   "metadata": {},
   "outputs": [
    {
     "name": "stdout",
     "output_type": "stream",
     "text": [
      "<class 'pandas.core.frame.DataFrame'>\n",
      "Bar\n",
      "never    830\n",
      "less1    570\n",
      "1~3      397\n",
      "Name: count, dtype: int64\n",
      "people who went less than 3 times to Bar =  1797\n",
      "people who went less than 3 times to Bar and accepted coupon =  666\n",
      "Portion of people who went less than 3 times to Bar and accepted coupon 37.061769616026716 %\n",
      "<class 'pandas.core.frame.DataFrame'>\n",
      "Bar\n",
      "4~8    150\n",
      "gt8     49\n",
      "Name: count, dtype: int64\n",
      "people who went more than 3 times to Bar =  199\n",
      "people who went more than 3 times to Bar and accepted coupon =  153\n",
      "Portion of people who went more than 3 times to Bar and accepted coupon 76.88442211055276 %\n"
     ]
    }
   ],
   "source": [
    "data1 = data\n",
    "\n",
    "#Getting the cpount for people who went less than 3 times to Bar\n",
    "df_with_less_than_3_times = df_bar_coupon.query('Bar == \"never\" or Bar == \"less1\" or Bar == \"1~3\"')\n",
    "print(type(df_with_less_than_3_times))\n",
    "print(df_with_less_than_3_times['Bar'].value_counts())\n",
    "cnt_with_less_than_3_times =  df_with_less_than_3_times['Bar'].size\n",
    "print(\"people who went less than 3 times to Bar = \", cnt_with_less_than_3_times)\n",
    "#Getting the cpount for people who went less than 3 times to Bar and accepted coupon\n",
    "df_with_less_than_3_times_accpeted_coupon = df_with_less_than_3_times.query('Y == 1')\n",
    "cnt_with_less_than_3_times_accpeted_coupon = df_with_less_than_3_times_accpeted_coupon['Y'].size\n",
    "print(\"people who went less than 3 times to Bar and accepted coupon = \", cnt_with_less_than_3_times_accpeted_coupon)\n",
    "print(\"Portion of people who went less than 3 times to Bar and accepted coupon\", ((cnt_with_less_than_3_times_accpeted_coupon/cnt_with_less_than_3_times)*100), \"%\")\n",
    "\n",
    "#Getting the count for people who went more than 3 times to Bar\n",
    "df_with_more_than_3_times = df_bar_coupon.query('Bar == \"4~8\" or Bar == \"gt8\"')\n",
    "print(type(df_with_more_than_3_times))                                 \n",
    "print(df_with_more_than_3_times['Bar'].value_counts())\n",
    "cnt_with_more_than_3_times =  df_with_more_than_3_times['Bar'].size\n",
    "print(\"people who went more than 3 times to Bar = \", cnt_with_more_than_3_times)\n",
    "#Getting the cpount for people who went more than 3 times to Bar and accepted coupon\n",
    "df_with_more_than_3_times_accpeted_coupon = df_with_more_than_3_times.query('Y == 1')\n",
    "cnt_with_more_than_3_times_accpeted_coupon = df_with_more_than_3_times_accpeted_coupon['Y'].size\n",
    "print(\"people who went more than 3 times to Bar and accepted coupon = \", cnt_with_more_than_3_times_accpeted_coupon)\n",
    "print(\"Portion of people who went more than 3 times to Bar and accepted coupon\", ((cnt_with_more_than_3_times_accpeted_coupon/cnt_with_more_than_3_times)*100), \"%\")"
   ]
  },
  {
   "cell_type": "markdown",
   "metadata": {},
   "source": [
    "4. Compare the acceptance rate between drivers who go to a bar more than once a month and are over the age of 25 to the all others.  Is there a difference?\n"
   ]
  },
  {
   "cell_type": "code",
   "execution_count": 498,
   "metadata": {},
   "outputs": [
    {
     "name": "stdout",
     "output_type": "stream",
     "text": [
      "<class 'pandas.core.frame.DataFrame'>\n",
      "Bar\n",
      "1~3    290\n",
      "4~8    150\n",
      "gt8     49\n",
      "Name: count, dtype: int64\n",
      "people who went more than once to Bar & above age 25 =  489\n",
      "people who went more than once to Bar & above age 25 and accepted coupon =  342\n",
      "Portion of people who went more than once to Bar & above age 25 and accepted coupon 69.93865030674846 %\n",
      " Other Case\n",
      "<class 'pandas.core.frame.DataFrame'>\n",
      "Bar\n",
      "4~8    150\n",
      "1~3    107\n",
      "gt8     49\n",
      "Name: count, dtype: int64\n",
      "people who went more than once to Bar & above age 25 =  306\n",
      "people who went more than once to Bar & above age 25 and accepted coupon =  221\n",
      "Portion of people who went more than once to Bar & above age 25 and accepted coupon 72.22222222222221 %\n"
     ]
    },
    {
     "data": {
      "text/plain": [
       "'\\nConclusion: There is not much difference between acceptance rate between drivers who go to a bar more than once a month and are over the age of 25 to the all others\\n'"
      ]
     },
     "execution_count": 498,
     "metadata": {},
     "output_type": "execute_result"
    }
   ],
   "source": [
    "#Finding acceptance rate between drivers who go to a bar more than once a month and are over the age of 25\n",
    "df_with_more_than_once_above_age_25 = df_bar_coupon.query(' Bar == \"4~8\" or Bar == \"gt8\" or Bar == \"1~3\" and age > \"25\" ')\n",
    "print(type(df_with_more_than_once_above_age_25))\n",
    "print(df_with_more_than_once_above_age_25['Bar'].value_counts())\n",
    "cnt_with_more_than_once_above_age_25 =  df_with_more_than_once_above_age_25['Bar'].size\n",
    "print(\"people who went more than once to Bar & above age 25 = \", cnt_with_more_than_once_above_age_25)\n",
    "#Getting the cpount for people who went more than once to Bar & above age 25 and accepted coupon\n",
    "df_with_more_than_once_above_age_25_accpeted_coupon = df_with_more_than_once_above_age_25.query('Y == 1')\n",
    "cnt_with_more_than_once_above_age_25_accpeted_coupon = df_with_more_than_once_above_age_25_accpeted_coupon['Y'].size\n",
    "print(\"people who went more than once to Bar & above age 25 and accepted coupon = \", cnt_with_more_than_once_above_age_25_accpeted_coupon)\n",
    "print(\"Portion of people who went more than once to Bar & above age 25 and accepted coupon\", ((cnt_with_more_than_once_above_age_25_accpeted_coupon/cnt_with_more_than_once_above_age_25)*100), \"%\")\n",
    "\n",
    "print(\" Other Case\")\n",
    "\n",
    "#Finding acceptance rate between drivers who go to a bar more than once a month and are below the age of 25\n",
    "df_with_more_than_once_below_age_25 = df_bar_coupon.query(' Bar == \"4~8\" or Bar == \"gt8\" or Bar == \"1~3\" and age <= \"25\" ')\n",
    "print(type(df_with_more_than_once_below_age_25))\n",
    "print(df_with_more_than_once_below_age_25['Bar'].value_counts())\n",
    "cnt_with_more_than_once_below_age_25 =  df_with_more_than_once_below_age_25['Bar'].size\n",
    "print(\"people who went more than once to Bar & above age 25 = \", cnt_with_more_than_once_below_age_25)\n",
    "#Getting the cpount for people who went more than once to Bar & above age 25 and accepted coupon\n",
    "df_with_more_than_once_below_age_25_accpeted_coupon = df_with_more_than_once_below_age_25.query('Y == 1')\n",
    "cnt_with_more_than_once_below_age_25_accpeted_coupon = df_with_more_than_once_below_age_25_accpeted_coupon['Y'].size\n",
    "print(\"people who went more than once to Bar & above age 25 and accepted coupon = \", cnt_with_more_than_once_below_age_25_accpeted_coupon)\n",
    "print(\"Portion of people who went more than once to Bar & above age 25 and accepted coupon\", ((cnt_with_more_than_once_below_age_25_accpeted_coupon/cnt_with_more_than_once_below_age_25)*100), \"%\")\n",
    "\"\"\"\n",
    "Conclusion: There is not much difference between acceptance rate between drivers who go to a bar more than once a month and are over the age of 25 to the all others\n",
    "\"\"\""
   ]
  },
  {
   "cell_type": "markdown",
   "metadata": {},
   "source": [
    "5. Use the same process to compare the acceptance rate between drivers who go to bars more than once a month and had passengers that were not a kid and had occupations other than farming, fishing, or forestry. \n"
   ]
  },
  {
   "cell_type": "code",
   "execution_count": 500,
   "metadata": {},
   "outputs": [
    {
     "name": "stdout",
     "output_type": "stream",
     "text": [
      "passanger\n",
      "Alone        7305\n",
      "Friend(s)    3298\n",
      "Partner      1075\n",
      "Kid(s)       1006\n",
      "Name: count, dtype: int64\n",
      "<class 'pandas.core.frame.DataFrame'>\n",
      "Bar\n",
      "1~3    360\n",
      "4~8    143\n",
      "gt8     48\n",
      "Name: count, dtype: int64\n",
      "drivers who go to bars more than once a month and had passengers that were not a kid and had occupations other than farming, fishing, or forestry =  551\n",
      "drivers who go to bars more than once a month and had passengers that were not a kid and .. and accepted coupon =  393\n",
      "Portion of drivers who go to bars more than once a month and had passengers that were not a kid and had occupations other than farming, fishing, or forestry. 71.32486388384754 %\n"
     ]
    },
    {
     "data": {
      "text/plain": [
       "\"\\nConclusion: There is not much difference between acceptance rate between drivers who go to a bar more than once a month and had a passanger along with them. \\nThe exclusing the occupation of farming, fishing, or forestry doesn't affect the acceptance rate.\\n\""
      ]
     },
     "execution_count": 500,
     "metadata": {},
     "output_type": "execute_result"
    }
   ],
   "source": [
    "#Finding the acceptance rate between drivers who go to bars more than once a month and had passengers that were not a kid and had occupations other than farming, fishing, or forestry.\n",
    "data1 = data\n",
    "print(data1['passanger'].value_counts())\n",
    "#print(data1['occupation'].value_counts())\n",
    "\n",
    "\n",
    "df_with_more_than_once = df_bar_coupon.query(' Bar == \"4~8\" or Bar == \"gt8\" or Bar == \"1~3\" ')\n",
    "df_with_more_than_once_not_kid_passanger = df_with_more_than_once.query(' passanger == \"Alone\" or passanger == \"Friend(s)\" or passanger == \"Partner\" ')\n",
    "df_with_more_than_once_not_kid_passanger_other_occupation = df_with_more_than_once_not_kid_passanger.query('occupation != \"Farming Fishing & Forestry\"')\n",
    "print(type(df_with_more_than_once_not_kid_passanger_other_occupation))\n",
    "print(df_with_more_than_once_not_kid_passanger_other_occupation['Bar'].value_counts())\n",
    "cnt_df_with_more_than_once_not_kid_passanger_other_occupation =  df_with_more_than_once_not_kid_passanger_other_occupation['Bar'].size\n",
    "print(\"drivers who go to bars more than once a month and had passengers that were not a kid and had occupations other than farming, fishing, or forestry = \", cnt_df_with_more_than_once_not_kid_passanger_other_occupation)\n",
    "#Getting the cpount for people who went more than once to Bar & above age 25 and accepted coupon\n",
    "df_with_more_than_once_not_kid_passanger_other_occupation_accpeted_coupon = df_with_more_than_once_not_kid_passanger_other_occupation.query('Y == 1')\n",
    "cnt_with_more_than_once_not_kid_passanger_other_occupation_accpeted_coupon = df_with_more_than_once_not_kid_passanger_other_occupation_accpeted_coupon['Y'].size\n",
    "print(\"drivers who go to bars more than once a month and had passengers that were not a kid and .. and accepted coupon = \", cnt_with_more_than_once_not_kid_passanger_other_occupation_accpeted_coupon)\n",
    "print(\"Portion of drivers who go to bars more than once a month and had passengers that were not a kid and had occupations other than farming, fishing, or forestry.\", ((cnt_with_more_than_once_not_kid_passanger_other_occupation_accpeted_coupon/cnt_df_with_more_than_once_not_kid_passanger_other_occupation)*100), \"%\")\n",
    "\n",
    "\"\"\"\n",
    "Conclusion: There is not much difference between acceptance rate between drivers who go to a bar more than once a month and had a passanger along with them. \n",
    "The exclusing the occupation of farming, fishing, or forestry doesn't affect the acceptance rate.\n",
    "\"\"\""
   ]
  },
  {
   "cell_type": "markdown",
   "metadata": {},
   "source": [
    "6. Compare the acceptance rates between those drivers who:\n",
    "\n",
    "- go to bars more than once a month, had passengers that were not a kid, and were not widowed *OR*\n",
    "- go to bars more than once a month and are under the age of 30 *OR*\n",
    "- go to cheap restaurants more than 4 times a month and income is less than 50K. \n",
    "\n"
   ]
  },
  {
   "cell_type": "code",
   "execution_count": 506,
   "metadata": {},
   "outputs": [
    {
     "name": "stdout",
     "output_type": "stream",
     "text": [
      "maritalStatus\n",
      "Married partner      5100\n",
      "Single               4752\n",
      "Unmarried partner    2186\n",
      "Divorced              516\n",
      "Widowed               130\n",
      "Name: count, dtype: int64\n",
      "<class 'pandas.core.frame.DataFrame'>\n",
      "Bar\n",
      "1~3    360\n",
      "4~8    143\n",
      "gt8     48\n",
      "Name: count, dtype: int64\n",
      "drivers who go to bars more than once a month, had passengers that were not a kid, and were not widowed  551\n",
      "drivers who go to bars more than once a month, had passengers that were not a kid, and were not widowed and accepted coupon =  393\n",
      "Portion of drivers who go to bars more than once a month, had passengers that were not a kid, and were not widowed and accepted coupon 71.32486388384754 %\n"
     ]
    },
    {
     "data": {
      "text/plain": [
       "\"\\nConclusion: There is not much difference between acceptance rate between drivers who go to a bar more than once a month and had a passanger along with them. \\nThe exclusing the occupation of farming, fishing, or forestry doesn't affect the acceptance rate.\\n\""
      ]
     },
     "execution_count": 506,
     "metadata": {},
     "output_type": "execute_result"
    }
   ],
   "source": [
    "data1 = data\n",
    "print(data1['maritalStatus'].value_counts())\n",
    "\n",
    "df_with_more_than_once = df_bar_coupon.query(' Bar == \"4~8\" or Bar == \"gt8\" or Bar == \"1~3\" ')\n",
    "df_with_more_than_once_not_kid_passanger = df_with_more_than_once.query(' passanger == \"Alone\" or passanger == \"Friend(s)\" or passanger == \"Partner\" ')\n",
    "df_with_more_than_once_not_kid_passanger_not_widowed = df_with_more_than_once_not_kid_passanger.query('maritalStatus != \"Widowed\" ')\n",
    "print(type(df_with_more_than_once_not_kid_passanger_not_widowed))\n",
    "print(df_with_more_than_once_not_kid_passanger_not_widowed['Bar'].value_counts())\n",
    "cnt_with_more_than_once_not_kid_passanger_not_widowed =  df_with_more_than_once_not_kid_passanger_not_widowed['Bar'].size\n",
    "print(\"drivers who go to bars more than once a month, had passengers that were not a kid, and were not widowed \", cnt_with_more_than_once_not_kid_passanger_not_widowed)\n",
    "#Getting the cpount for people who went more than once to Bar & above age 25 and accepted coupon\n",
    "df_with_more_than_once_not_kid_passanger_not_widowed_accpeted_coupon = df_with_more_than_once_not_kid_passanger_not_widowed.query('Y == 1')\n",
    "cnt_with_more_than_once_not_kid_passanger_not_widowed_accpeted_coupon = df_with_more_than_once_not_kid_passanger_not_widowed_accpeted_coupon['Y'].size\n",
    "print(\"drivers who go to bars more than once a month, had passengers that were not a kid, and were not widowed and accepted coupon = \", cnt_with_more_than_once_not_kid_passanger_not_widowed_accpeted_coupon)\n",
    "print(\"Portion of drivers who go to bars more than once a month, had passengers that were not a kid, and were not widowed and accepted coupon\", ((cnt_with_more_than_once_not_kid_passanger_not_widowed_accpeted_coupon/cnt_with_more_than_once_not_kid_passanger_not_widowed)*100), \"%\")\n",
    "\n",
    "\"\"\"\n",
    "Conclusion: There is not much difference between acceptance rate between drivers who go to a bar more than once a month and had a passanger along with them. \n",
    "The exclusing the marital status of Widowded doesn't affect the acceptance rate.\n",
    "\"\"\""
   ]
  },
  {
   "cell_type": "markdown",
   "metadata": {},
   "source": [
    "7.  Based on these observations, what do you hypothesize about drivers who accepted the bar coupons?"
   ]
  },
  {
   "cell_type": "code",
   "execution_count": 508,
   "metadata": {},
   "outputs": [
    {
     "data": {
      "text/plain": [
       "'\\nBased on the acceptance rates based on cases 1-6, it is very clear that drivers who go to bars atleast once a month has\\n'"
      ]
     },
     "execution_count": 508,
     "metadata": {},
     "output_type": "execute_result"
    }
   ],
   "source": [
    "\"\"\"\n",
    "Based on the acceptance rates based on cases 1-6, it is very clear that drivers who go to bars atleast once a month has\n",
    "~ 71% chance of accepting the Bar coupon.\n",
    "\n",
    "Passangers, marital status or age doesn't affect the acceptance rate that much.\n",
    "\n",
    "\"\"\""
   ]
  },
  {
   "cell_type": "code",
   "execution_count": null,
   "metadata": {},
   "outputs": [],
   "source": []
  },
  {
   "cell_type": "markdown",
   "metadata": {},
   "source": [
    "### Independent Investigation\n",
    "\n",
    "Using the bar coupon example as motivation, you are to explore one of the other coupon groups and try to determine the characteristics of passengers who accept the coupons.  "
   ]
  },
  {
   "cell_type": "code",
   "execution_count": null,
   "metadata": {},
   "outputs": [],
   "source": []
  },
  {
   "cell_type": "code",
   "execution_count": null,
   "metadata": {},
   "outputs": [],
   "source": []
  },
  {
   "cell_type": "code",
   "execution_count": null,
   "metadata": {},
   "outputs": [],
   "source": []
  },
  {
   "cell_type": "code",
   "execution_count": null,
   "metadata": {},
   "outputs": [],
   "source": []
  },
  {
   "cell_type": "code",
   "execution_count": null,
   "metadata": {},
   "outputs": [],
   "source": []
  }
 ],
 "metadata": {
  "kernelspec": {
   "display_name": "Python 3 (ipykernel)",
   "language": "python",
   "name": "python3"
  },
  "language_info": {
   "codemirror_mode": {
    "name": "ipython",
    "version": 3
   },
   "file_extension": ".py",
   "mimetype": "text/x-python",
   "name": "python",
   "nbconvert_exporter": "python",
   "pygments_lexer": "ipython3",
   "version": "3.11.7"
  },
  "widgets": {
   "application/vnd.jupyter.widget-state+json": {
    "state": {},
    "version_major": 2,
    "version_minor": 0
   }
  }
 },
 "nbformat": 4,
 "nbformat_minor": 4
}
